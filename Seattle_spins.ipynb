{
 "cells": [
  {
   "cell_type": "code",
   "execution_count": 1,
   "metadata": {},
   "outputs": [],
   "source": [
    "import numpy as np\n",
    "import pandas as pd\n",
    "import json\n",
    "# import bike_project as bp"
   ]
  },
  {
   "cell_type": "code",
   "execution_count": 2,
   "metadata": {},
   "outputs": [],
   "source": [
    "def r_w_bike_trips(path, location_name, num_shops, app_token, limit=50000, offset=50000):\n",
    "    '''\n",
    "    Reads an API accessible dataset given url path and other url call variables.\n",
    "    Writes out to a json file\n",
    "\n",
    "    Parameters:\n",
    "    -----------\n",
    "    path (str): url path beginning with https:\n",
    "    location_name (str): name to assign to the trip counts column\n",
    "    token (str): app_token\n",
    "    limit (int): max rows to request\n",
    "    offset (int): starting point for gathering rows\n",
    "\n",
    "    Output:\n",
    "    --------\n",
    "    json-formatted file named 'location_name.json'\n",
    "    '''\n",
    "    df_a = pd.read_json( f'{path}?$limit={limit}&$offset={0}&$$app_token={app_token}')\n",
    "    df_b = pd.read_json( f'{path}?$limit={limit}&$offset={offset}&$$app_token={app_token}')\n",
    "    df = df_a.append(df_b)    \n",
    "    # rename trip_count column to location_name\n",
    "    df[location_name] = df.iloc[:, -2:].sum(axis=1)   \n",
    "    \n",
    "    # calculate date, month, year, dow, commuter (boolean), trip count am peak, trip count other times\n",
    "    df['short_date'] = pd.DatetimeIndex(df['date']).date\n",
    "    df['month'] = pd.DatetimeIndex(df['date']).month\n",
    "    df['year'] = pd.DatetimeIndex(df['date']).year\n",
    "    df['dow'] = pd.DatetimeIndex(df['date']).dayofweek\n",
    "    df['hour'] = pd.DatetimeIndex(df['date']).hour\n",
    "    df['am_commuter'] = df['dow'].isin([0,1,2,3,4]) & (df['hour'].isin([5,6,7,8,9]))\n",
    "    df[f'{location_name}_am_peak'] = np.where(df['am_commuter']==True, df[location_name], 0)\n",
    "    df[f'{location_name}_other'] = np.where(df['am_commuter']==False, df[location_name], 0)\n",
    "    \n",
    "    # collapse table by date and create sum counts for commuter and (other-(2 x commuter))\n",
    "    df_by_date = df.groupby(['short_date', 'month', 'year', 'dow']).agg(\n",
    "                                        {f'{location_name}_am_peak':'sum',\n",
    "                                         f'{location_name}_other':'sum'\n",
    "                                          }).reset_index()\n",
    "    \n",
    "    # commuters travel 2 ways--remove assumed pm commuter trips from trip count other\n",
    "    df[f'{location_name}_other'] = df[f'{location_name}_other'] - df[f'{location_name}_am_peak']\n",
    "    \n",
    "    # add in count of nearby bike shops\n",
    "    df_by_date[f'{location_name}_bike_shops'] = num_shops\n",
    "    df_by_date.to_json(f'data/{location_name}.json', date_format='iso')\n",
    "    \n",
    "    #test output to be sure the read operation went ok\n",
    "    print(df_by_date.head())\n",
    "    "
   ]
  },
  {
   "cell_type": "code",
   "execution_count": 3,
   "metadata": {},
   "outputs": [],
   "source": [
    "urls = {\n",
    "        'Ballard' : 'https://data.seattle.gov/resource/47yq-6ugv.json',\n",
    "        'Capitol_Hill' : 'https://data.seattle.gov/resource/j4vh-b42a.json',\n",
    "        'Central_2nd_Ave' : 'https://data.seattle.gov/resource/avwm-i8ym.json',\n",
    "# no data until 2019        'Central_7th_Ave' : 'https://data.seattle.gov/resource/qfzg-zmyj.json', \n",
    "        'West_Seattle' : 'https://data.seattle.gov/resource/mefu-7eau.json',\n",
    "        'I90_lid' : 'https://data.seattle.gov/resource/u38e-ybnc.json',\n",
    "        'NE_Seattle' : 'https://data.seattle.gov/resource/2z5v-ecg8.json',\n",
    "        'Myrtle_Edwards' : 'https://data.seattle.gov/resource/4qej-qvrz.json'\n",
    "        }\n",
    "\n",
    "bike_shops = {\n",
    "        'Ballard' : 3,\n",
    "        'Capitol_Hill' : 2,\n",
    "        'Central_2nd_Ave' : 5,\n",
    "        'Central_7th_Ave' : 6,\n",
    "        'West_Seattle' : 3,\n",
    "        'I90_lid' : 5,\n",
    "        'NE_Seattle' :6 ,\n",
    "        'Myrtle_Edwards' : 3\n",
    "}\n"
   ]
  },
  {
   "cell_type": "code",
   "execution_count": 110,
   "metadata": {
    "scrolled": true
   },
   "outputs": [
    {
     "name": "stdout",
     "output_type": "stream",
     "text": [
      "   short_date  month  year  dow  Ballard_am_peak  Ballard_other  \\\n",
      "0  2014-01-01      1  2014    2             15.0          369.0   \n",
      "1  2014-01-02      1  2014    3             80.0          375.0   \n",
      "2  2014-01-03      1  2014    4             86.0          491.0   \n",
      "3  2014-01-04      1  2014    5              0.0          555.0   \n",
      "4  2014-01-05      1  2014    6              0.0          488.0   \n",
      "\n",
      "   Ballard_bike_shops  \n",
      "0                   3  \n",
      "1                   3  \n",
      "2                   3  \n",
      "3                   3  \n",
      "4                   3  \n",
      "   short_date  month  year  dow  Capitol_Hill_am_peak  Capitol_Hill_other  \\\n",
      "0  2014-01-01      1  2014    2                   5.0               115.0   \n",
      "1  2014-01-02      1  2014    3                  49.0               140.0   \n",
      "2  2014-01-03      1  2014    4                  45.0               152.0   \n",
      "3  2014-01-04      1  2014    5                   0.0               161.0   \n",
      "4  2014-01-05      1  2014    6                   0.0               188.0   \n",
      "\n",
      "   Capitol_Hill_bike_shops  \n",
      "0                        2  \n",
      "1                        2  \n",
      "2                        2  \n",
      "3                        2  \n",
      "4                        2  \n",
      "   short_date  month  year  dow  Central_2nd_Ave_am_peak  \\\n",
      "0  2015-01-01      1  2015    3                       13   \n",
      "1  2015-01-02      1  2015    4                       84   \n",
      "2  2015-01-03      1  2015    5                        0   \n",
      "3  2015-01-04      1  2015    6                        0   \n",
      "4  2015-01-05      1  2015    0                      168   \n",
      "\n",
      "   Central_2nd_Ave_other  Central_2nd_Ave_bike_shops  \n",
      "0                     87                           5  \n",
      "1                    233                           5  \n",
      "2                    167                           5  \n",
      "3                    103                           5  \n",
      "4                    339                           5  \n",
      "   short_date  month  year  dow  West_Seattle_am_peak  West_Seattle_other  \\\n",
      "0  2014-01-01      1  2014    2                   4.0               104.0   \n",
      "1  2014-01-02      1  2014    3                  34.0               170.0   \n",
      "2  2014-01-03      1  2014    4                  45.0               177.0   \n",
      "3  2014-01-04      1  2014    5                   0.0               208.0   \n",
      "4  2014-01-05      1  2014    6                   0.0               119.0   \n",
      "\n",
      "   West_Seattle_bike_shops  \n",
      "0                        3  \n",
      "1                        3  \n",
      "2                        3  \n",
      "3                        3  \n",
      "4                        3  \n",
      "   short_date  month  year  dow  I90_lid_am_peak  I90_lid_other  \\\n",
      "0  2013-12-18     12  2013    2             75.0          161.0   \n",
      "1  2013-12-19     12  2013    3             70.0          171.0   \n",
      "2  2013-12-20     12  2013    4             17.0           23.0   \n",
      "3  2013-12-21     12  2013    5              0.0          389.0   \n",
      "4  2013-12-22     12  2013    6              0.0          218.0   \n",
      "\n",
      "   I90_lid_bike_shops  \n",
      "0                   5  \n",
      "1                   5  \n",
      "2                   5  \n",
      "3                   5  \n",
      "4                   5  \n",
      "   short_date  month  year  dow  NE_Seattle_am_peak  NE_Seattle_other  \\\n",
      "0  2014-01-01      1  2014    2                47.0             490.0   \n",
      "1  2014-01-02      1  2014    3                91.0             489.0   \n",
      "2  2014-01-03      1  2014    4               121.0             494.0   \n",
      "3  2014-01-04      1  2014    5                 0.0             945.0   \n",
      "4  2014-01-05      1  2014    6                 0.0             652.0   \n",
      "\n",
      "   NE_Seattle_bike_shops  \n",
      "0                      6  \n",
      "1                      6  \n",
      "2                      6  \n",
      "3                      6  \n",
      "4                      6  \n",
      "   short_date  month  year  dow  Myrtle_Edwards_am_peak  Myrtle_Edwards_other  \\\n",
      "0  2014-01-01      1  2014    2                    27.0                 423.0   \n",
      "1  2014-01-02      1  2014    3                   235.0                 354.0   \n",
      "2  2014-01-03      1  2014    4                   248.0                 524.0   \n",
      "3  2014-01-04      1  2014    5                     0.0                 665.0   \n",
      "4  2014-01-05      1  2014    6                     0.0                 538.0   \n",
      "\n",
      "   Myrtle_Edwards_bike_shops  \n",
      "0                          3  \n",
      "1                          3  \n",
      "2                          3  \n",
      "3                          3  \n",
      "4                          3  \n"
     ]
    }
   ],
   "source": [
    "# This function call reads the raw data and writes one json output file per location. No need to rerun unless\n",
    "# datatable is insufficient or in error.\n",
    "\n",
    "limit = 30000\n",
    "offset = 30000\n",
    "\n",
    "with open('data/app_token.txt', 'r') as t_file: \n",
    "    app_token = t_file.read() \n",
    "\n",
    "for k, v in urls.items():\n",
    "    r_w_bike_trips(v, k, bike_shops[k], app_token, limit, offset)"
   ]
  },
  {
   "cell_type": "code",
   "execution_count": 4,
   "metadata": {},
   "outputs": [],
   "source": [
    "count = 1\n",
    "for k,v in urls.items():\n",
    "    if count == 1:\n",
    "        df = pd.read_json(f'data/{k}.json')\n",
    "    else:\n",
    "        df_next = pd.read_json(f'data/{k}.json')\n",
    "        df = df.merge(df_next, how=\"left\", left_on=[\"short_date\", \"month\", \"year\", \"dow\"], right_on=['short_date', \"month\", \"year\", \"dow\"])\n",
    "    count += 1\n",
    "df['date'] = pd.DatetimeIndex(df['short_date']).date\n"
   ]
  },
  {
   "cell_type": "code",
   "execution_count": 5,
   "metadata": {},
   "outputs": [],
   "source": [
    "df_seattle_weather = pd.read_csv('data/weather.csv', usecols=['DATE',\"PRCP\",\"TAVG\",\"TMAX\",\"TMIN\"])\n",
    "df_seattle_weather['date'] = pd.DatetimeIndex(df_seattle_weather[\"DATE\"]).date"
   ]
  },
  {
   "cell_type": "code",
   "execution_count": 6,
   "metadata": {},
   "outputs": [],
   "source": [
    "# df = df.merge(df_seattle_weather, how=\"left\", left_on=['short_date'], right_on=['DATE'])\n",
    "df = df.merge(df_seattle_weather, how=\"left\", left_on=\"date\", right_on='date')\n",
    "df.index = df['date']"
   ]
  },
  {
   "cell_type": "code",
   "execution_count": 7,
   "metadata": {},
   "outputs": [
    {
     "name": "stdout",
     "output_type": "stream",
     "text": [
      "<class 'pandas.core.frame.DataFrame'>\n",
      "Index: 2345 entries, 2014-01-01 to 2020-06-30\n",
      "Data columns (total 31 columns):\n",
      " #   Column                      Non-Null Count  Dtype  \n",
      "---  ------                      --------------  -----  \n",
      " 0   short_date                  2345 non-null   object \n",
      " 1   month                       2345 non-null   int64  \n",
      " 2   year                        2345 non-null   int64  \n",
      " 3   dow                         2345 non-null   int64  \n",
      " 4   Ballard_am_peak             2345 non-null   int64  \n",
      " 5   Ballard_other               2345 non-null   int64  \n",
      " 6   Ballard_bike_shops          2345 non-null   int64  \n",
      " 7   Capitol_Hill_am_peak        2314 non-null   float64\n",
      " 8   Capitol_Hill_other          2314 non-null   float64\n",
      " 9   Capitol_Hill_bike_shops     2314 non-null   float64\n",
      " 10  Central_2nd_Ave_am_peak     1980 non-null   float64\n",
      " 11  Central_2nd_Ave_other       1980 non-null   float64\n",
      " 12  Central_2nd_Ave_bike_shops  1980 non-null   float64\n",
      " 13  West_Seattle_am_peak        2345 non-null   int64  \n",
      " 14  West_Seattle_other          2345 non-null   int64  \n",
      " 15  West_Seattle_bike_shops     2345 non-null   int64  \n",
      " 16  I90_lid_am_peak             2345 non-null   int64  \n",
      " 17  I90_lid_other               2345 non-null   int64  \n",
      " 18  I90_lid_bike_shops          2345 non-null   int64  \n",
      " 19  NE_Seattle_am_peak          2345 non-null   int64  \n",
      " 20  NE_Seattle_other            2345 non-null   int64  \n",
      " 21  NE_Seattle_bike_shops       2345 non-null   int64  \n",
      " 22  Myrtle_Edwards_am_peak      2345 non-null   int64  \n",
      " 23  Myrtle_Edwards_other        2345 non-null   int64  \n",
      " 24  Myrtle_Edwards_bike_shops   2345 non-null   int64  \n",
      " 25  date                        2345 non-null   object \n",
      " 26  DATE                        2345 non-null   object \n",
      " 27  PRCP                        2345 non-null   float64\n",
      " 28  TAVG                        2340 non-null   float64\n",
      " 29  TMAX                        2345 non-null   float64\n",
      " 30  TMIN                        2345 non-null   float64\n",
      "dtypes: float64(10), int64(18), object(3)\n",
      "memory usage: 586.2+ KB\n"
     ]
    }
   ],
   "source": [
    "df.info()"
   ]
  },
  {
   "cell_type": "code",
   "execution_count": 8,
   "metadata": {
    "scrolled": true
   },
   "outputs": [
    {
     "data": {
      "text/plain": [
       "date\n",
       "2020-05-12    497.0\n",
       "2020-05-13    450.0\n",
       "2020-05-14    354.0\n",
       "2020-05-15    698.0\n",
       "2020-05-16      0.0\n",
       "2020-05-17      0.0\n",
       "2020-05-18    645.0\n",
       "2020-05-19    673.0\n",
       "2020-05-20    544.0\n",
       "2020-05-21    244.0\n",
       "2020-05-22    666.0\n",
       "2020-05-23      0.0\n",
       "2020-05-24      0.0\n",
       "2020-05-25    135.0\n",
       "2020-05-26    481.0\n",
       "2020-05-27    839.0\n",
       "2020-05-28    741.0\n",
       "2020-05-29    901.0\n",
       "2020-05-30      0.0\n",
       "2020-05-31      0.0\n",
       "2020-06-01    607.0\n",
       "2020-06-02    650.0\n",
       "2020-06-03    709.0\n",
       "2020-06-04    630.0\n",
       "2020-06-05    669.0\n",
       "2020-06-06      0.0\n",
       "2020-06-07      0.0\n",
       "2020-06-08    592.0\n",
       "2020-06-09    266.0\n",
       "2020-06-10    594.0\n",
       "2020-06-11    504.0\n",
       "2020-06-12    431.0\n",
       "2020-06-13      0.0\n",
       "2020-06-14      0.0\n",
       "2020-06-15    275.0\n",
       "2020-06-16    566.0\n",
       "2020-06-17    780.0\n",
       "2020-06-18    754.0\n",
       "2020-06-19    826.0\n",
       "2020-06-20      0.0\n",
       "2020-06-21      0.0\n",
       "2020-06-22    683.0\n",
       "2020-06-23    773.0\n",
       "2020-06-24    694.0\n",
       "2020-06-25    828.0\n",
       "2020-06-26    837.0\n",
       "2020-06-27      0.0\n",
       "2020-06-28      0.0\n",
       "2020-06-29    608.0\n",
       "2020-06-30    416.0\n",
       "Name: am_peak_ttl, dtype: float64"
      ]
     },
     "execution_count": 8,
     "metadata": {},
     "output_type": "execute_result"
    }
   ],
   "source": [
    "df['am_peak_ttl'] = df['Ballard_am_peak'] + df['Capitol_Hill_am_peak'] + \\\n",
    "df['Central_2nd_Ave_am_peak'] + df['West_Seattle_am_peak'] + \\\n",
    "df['I90_lid_am_peak'] + df['NE_Seattle_am_peak'] +df['Myrtle_Edwards_am_peak']\n",
    "df['am_peak_ttl'].tail(50)"
   ]
  },
  {
   "cell_type": "code",
   "execution_count": 9,
   "metadata": {},
   "outputs": [
    {
     "data": {
      "text/plain": [
       "'https://data.seattle.gov/resource/4qej-qvrz.json'"
      ]
     },
     "execution_count": 9,
     "metadata": {},
     "output_type": "execute_result"
    }
   ],
   "source": [
    "v"
   ]
  },
  {
   "cell_type": "code",
   "execution_count": 10,
   "metadata": {
    "scrolled": true
   },
   "outputs": [
    {
     "data": {
      "text/plain": [
       "date\n",
       "2020-05-12    2161.0\n",
       "2020-05-13    3822.0\n",
       "2020-05-14    3365.0\n",
       "2020-05-15    5933.0\n",
       "2020-05-16    2045.0\n",
       "2020-05-17    7531.0\n",
       "2020-05-18    3781.0\n",
       "2020-05-19    3689.0\n",
       "2020-05-20    1802.0\n",
       "2020-05-21    1330.0\n",
       "2020-05-22    3168.0\n",
       "2020-05-23    6798.0\n",
       "2020-05-24    7667.0\n",
       "2020-05-25    1569.0\n",
       "2020-05-26    3851.0\n",
       "2020-05-27    5109.0\n",
       "2020-05-28    4109.0\n",
       "2020-05-29    5322.0\n",
       "2020-05-30     962.0\n",
       "2020-05-31    3002.0\n",
       "2020-06-01    3689.0\n",
       "2020-06-02    2365.0\n",
       "2020-06-03    3602.0\n",
       "2020-06-04    3601.0\n",
       "2020-06-05    3586.0\n",
       "2020-06-06    4871.0\n",
       "2020-06-07    3736.0\n",
       "2020-06-08    3074.0\n",
       "2020-06-09    1051.0\n",
       "2020-06-10    4622.0\n",
       "2020-06-11    3047.0\n",
       "2020-06-12    1580.0\n",
       "2020-06-13    3004.0\n",
       "2020-06-14    6993.0\n",
       "2020-06-15    1476.0\n",
       "2020-06-16    3734.0\n",
       "2020-06-17    4563.0\n",
       "2020-06-18    4450.0\n",
       "2020-06-19    4232.0\n",
       "2020-06-20    3819.0\n",
       "2020-06-21    5872.0\n",
       "2020-06-22    4346.0\n",
       "2020-06-23    4038.0\n",
       "2020-06-24    3554.0\n",
       "2020-06-25    4466.0\n",
       "2020-06-26    4075.0\n",
       "2020-06-27    1604.0\n",
       "2020-06-28    5641.0\n",
       "2020-06-29    3665.0\n",
       "2020-06-30    1889.0\n",
       "Name: other_ttl, dtype: float64"
      ]
     },
     "execution_count": 10,
     "metadata": {},
     "output_type": "execute_result"
    }
   ],
   "source": [
    "df['other_ttl'] = df['Ballard_other'] + df['Capitol_Hill_other'] + \\\n",
    "df['Central_2nd_Ave_other'] + df['West_Seattle_other'] + \\\n",
    "df['I90_lid_other'] + df['NE_Seattle_other'] +df['Myrtle_Edwards_other']\n",
    "df['other_ttl'].tail(50)"
   ]
  },
  {
   "cell_type": "code",
   "execution_count": 11,
   "metadata": {},
   "outputs": [
    {
     "name": "stdout",
     "output_type": "stream",
     "text": [
      "Central_2nd_Ave 5\n",
      "Central_7th_Ave 6\n",
      "I90_lid 5\n",
      "NE_Seattle 6\n",
      "['Myrtle_Edwards_am_peak']\n"
     ]
    }
   ],
   "source": [
    "for k,v in bike_shops.items():\n",
    "    few_am_peak, many_am_peak, few_other, many_other = [], [], [], []\n",
    "    if v <= 3:\n",
    "        few_am_peak.append('{}_am_peak'.format(k))\n",
    "        few_other.append(f'{k}_other')\n",
    "    else:\n",
    "        print(f'{k} {v}')\n",
    "        many_am_peak.append(f'{k}_am_peak')\n",
    "        many_other.append(f'{k}_other')\n",
    "\n",
    "print(few_am_peak)\n",
    "                          "
   ]
  },
  {
   "cell_type": "code",
   "execution_count": null,
   "metadata": {},
   "outputs": [],
   "source": []
  },
  {
   "cell_type": "code",
   "execution_count": null,
   "metadata": {},
   "outputs": [],
   "source": []
  }
 ],
 "metadata": {
  "kernelspec": {
   "display_name": "Python 3",
   "language": "python",
   "name": "python3"
  },
  "language_info": {
   "codemirror_mode": {
    "name": "ipython",
    "version": 3
   },
   "file_extension": ".py",
   "mimetype": "text/x-python",
   "name": "python",
   "nbconvert_exporter": "python",
   "pygments_lexer": "ipython3",
   "version": "3.7.7"
  }
 },
 "nbformat": 4,
 "nbformat_minor": 4
}
