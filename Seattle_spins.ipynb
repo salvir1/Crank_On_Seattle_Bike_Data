{
 "cells": [
  {
   "cell_type": "code",
   "execution_count": 7,
   "metadata": {},
   "outputs": [],
   "source": [
    "import numpy as np\n",
    "import pandas as pd\n",
    "# import bike_project as bp"
   ]
  },
  {
   "cell_type": "code",
   "execution_count": 83,
   "metadata": {},
   "outputs": [
    {
     "name": "stdout",
     "output_type": "stream",
     "text": [
      "0 0            Ballard\n",
      "1    Central_2nd_Ave\n",
      "2    Central_7th_Ave\n",
      "3       West_Seattle\n",
      "4       Capitol_Hill\n",
      "5         NE_Seattle\n",
      "6     Myrtle_Edwards\n",
      "7            I90_lid\n",
      "Name: 0, dtype: object\n",
      "1 0    3\n",
      "1    5\n",
      "2    6\n",
      "3    3\n",
      "4    2\n",
      "5    6\n",
      "6    3\n",
      "7    5\n",
      "Name: 1, dtype: int64\n"
     ]
    }
   ],
   "source": [
    "urls = {\n",
    "        'Ballard' : 'https://data.seattle.gov/resource/47yq-6ugv.json',\n",
    "        'Capitol_Hill' : 'https://data.seattle.gov/resource/j4vh-b42a.json',\n",
    "        'Central_2nd_Ave' : 'https://data.seattle.gov/resource/avwm-i8ym.json',\n",
    "#         'Central_7th_Ave' : 'https://data.seattle.gov/resource/qfzg-zmyj.json',\n",
    "#         'West_Seattle' : 'https://data.seattle.gov/resource/mefu-7eau.json',\n",
    "#         'I90_lid' : 'https://data.seattle.gov/resource/u38e-ybnc.json',\n",
    "#         'NE_Seattle' : 'https://data.seattle.gov/resource/2z5v-ecg8.json',\n",
    "#         'Myrtle_Edwards' : 'https://data.seattle.gov/resource/4qej-qvrz.json'\n",
    "        }\n",
    "limit = 30000\n",
    "offset = 0\n",
    "\n",
    "with open('data/app_token.txt', 'r') as t_file: \n",
    "    app_token = t_file.read() \n",
    "\n",
    "shop_dict = pd.read_csv('data/bike_shop_tally.csv', header=None)\n",
    "for k, v in shop_dict.items():\n",
    "    print(k, shop_dict[k])\n",
    "    \n",
    "n_shops = 3\n",
    "    "
   ]
  },
  {
   "cell_type": "code",
   "execution_count": 84,
   "metadata": {},
   "outputs": [],
   "source": [
    "def read_bike_trips(path, location_name, num_shops, app_token, limit=50000, offset=50000):\n",
    "    '''\n",
    "    Reads an API accessible dataset given url path and other url call variables\n",
    "    Parameters:\n",
    "    -----------\n",
    "    path (str): url path beginning with https:\n",
    "    location_name (str): name to assign to the trip counts column\n",
    "    token (str): app_token\n",
    "    limit (int): max rows to request\n",
    "    offset (int): starting point for gathering rows\n",
    "\n",
    "    Returns:\n",
    "    --------\n",
    "    pandas dataframe\n",
    "    '''\n",
    "    df = pd.read_json( f'{path}?$limit={limit}&$offset={offset}&$$app_token={app_token}')\n",
    "    \n",
    "    # rename trip_count column to location_name\n",
    "    df[location_name] = df.iloc[:,1]   \n",
    "    \n",
    "    # calculate date, month, year, dow, commuter (boolean)\n",
    "    df['short_date'] = pd.DatetimeIndex(df['date']).date\n",
    "    df['month'] = pd.DatetimeIndex(df['date']).month\n",
    "    df['year'] = pd.DatetimeIndex(df['date']).year\n",
    "    df['dow'] = pd.DatetimeIndex(df['date']).dayofweek\n",
    "    df['hour'] = pd.DatetimeIndex(df['date']).hour\n",
    "    df['am_commuter'] = df['dow'].isin([7,1,2,3,4]) & (df['hour'].isin([5,6,7,8,9]))\n",
    "    df[f'{location_name}_am_peak'] = np.where(df['am_commuter']==True, df[location_name], 0)\n",
    "    df[f'{location_name}_other'] = np.where(df['am_commuter']==False, df[location_name], 0)\n",
    "    \n",
    "    # collapse table by date and create sum counts for commuter and (other-(2 x commuter))\n",
    "    df_by_date = df.groupby(['short_date', 'month', 'year', 'dow']).agg(\n",
    "                                        {f'{location_name}_am_peak':'sum',\n",
    "                                         f'{location_name}_other':'sum'\n",
    "                                          })\n",
    "    \n",
    "    # add in count of nearby bike shops\n",
    "    df_by_date[f'{location_name}_bike_shops'] = num_shops\n",
    "    print(df_by_date)\n",
    "    "
   ]
  },
  {
   "cell_type": "code",
   "execution_count": 85,
   "metadata": {
    "scrolled": true
   },
   "outputs": [
    {
     "name": "stdout",
     "output_type": "stream",
     "text": [
      "                           Ballard_am_peak  Ballard_other  Ballard_bike_shops\n",
      "short_date month year dow                                                    \n",
      "2014-01-01 1     2014 2               15.0          369.0                   3\n",
      "2014-01-02 1     2014 3               80.0          375.0                   3\n",
      "2014-01-03 1     2014 4               86.0          491.0                   3\n",
      "2014-01-04 1     2014 5                0.0          555.0                   3\n",
      "2014-01-05 1     2014 6                0.0          488.0                   3\n",
      "...                                    ...            ...                 ...\n",
      "2017-05-30 5     2017 1                0.0            0.0                   3\n",
      "2017-05-31 5     2017 2                0.0            0.0                   3\n",
      "2017-06-01 6     2017 3                0.0            0.0                   3\n",
      "2017-06-02 6     2017 4                0.0          100.0                   3\n",
      "2017-06-03 6     2017 5                0.0          154.0                   3\n",
      "\n",
      "[1250 rows x 3 columns]\n"
     ]
    }
   ],
   "source": [
    "df = read_bike_trips(urls['Ballard'], 'Ballard', n_shops, app_token, limit, offset)\n",
    "# for k, v in urls.items():\n",
    "#     if k != 'Ballard':\n",
    "#         df_ = df_.append(bp.read_bike_trips(v, k, n_shops, app_token, limit, offset))"
   ]
  },
  {
   "cell_type": "code",
   "execution_count": 12,
   "metadata": {
    "scrolled": true
   },
   "outputs": [
    {
     "ename": "AttributeError",
     "evalue": "'NoneType' object has no attribute 'head'",
     "output_type": "error",
     "traceback": [
      "\u001b[0;31m---------------------------------------------------------------------------\u001b[0m",
      "\u001b[0;31mAttributeError\u001b[0m                            Traceback (most recent call last)",
      "\u001b[0;32m<ipython-input-12-c42a15b2c7cf>\u001b[0m in \u001b[0;36m<module>\u001b[0;34m\u001b[0m\n\u001b[0;32m----> 1\u001b[0;31m \u001b[0mdf\u001b[0m\u001b[0;34m.\u001b[0m\u001b[0mhead\u001b[0m\u001b[0;34m(\u001b[0m\u001b[0;34m)\u001b[0m\u001b[0;34m\u001b[0m\u001b[0;34m\u001b[0m\u001b[0m\n\u001b[0m",
      "\u001b[0;31mAttributeError\u001b[0m: 'NoneType' object has no attribute 'head'"
     ]
    }
   ],
   "source": [
    "df.head()"
   ]
  },
  {
   "cell_type": "code",
   "execution_count": null,
   "metadata": {},
   "outputs": [],
   "source": [
    "bp.gen_date_time(df_)\n",
    "df_"
   ]
  },
  {
   "cell_type": "code",
   "execution_count": null,
   "metadata": {},
   "outputs": [],
   "source": [
    "df['month'] = pd.DatetimeIndex(df['date']).month\n",
    "df['year'] = pd.DatetimeIndex(df['date']).year\n",
    "df['dow'] = pd.DatetimeIndex(df['date']).dayofweek\n",
    "df['hour'] = pd.DatetimeIndex(df['date']).hour\n",
    "df['am_commuter'] = df['dow'].isin([7,1,2,3,4]) & (df['hour'].isin([5,6,7,8,9]))\n",
    "am_commuter_group = (df[df['am_commuter'] == True])\n",
    "am_commuter_group\n"
   ]
  },
  {
   "cell_type": "code",
   "execution_count": null,
   "metadata": {},
   "outputs": [],
   "source": [
    "df.groupby(df[['date', 'commuter']])"
   ]
  }
 ],
 "metadata": {
  "kernelspec": {
   "display_name": "Python 3",
   "language": "python",
   "name": "python3"
  },
  "language_info": {
   "codemirror_mode": {
    "name": "ipython",
    "version": 3
   },
   "file_extension": ".py",
   "mimetype": "text/x-python",
   "name": "python",
   "nbconvert_exporter": "python",
   "pygments_lexer": "ipython3",
   "version": "3.7.7"
  }
 },
 "nbformat": 4,
 "nbformat_minor": 4
}
